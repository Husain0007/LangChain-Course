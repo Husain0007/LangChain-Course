{
 "cells": [
  {
   "cell_type": "code",
   "execution_count": 22,
   "metadata": {},
   "outputs": [],
   "source": [
    "from langchain_community.document_loaders import PyPDFLoader\n",
    "from langchain_community.document_loaders import PyPDFDirectoryLoader\n",
    "from langchain.text_splitter import RecursiveCharacterTextSplitter\n",
    "from langchain_community.vectorstores import FAISS\n",
    "from dotenv import load_dotenv\n",
    "\n",
    "load_dotenv()\n",
    "\n",
    "from langchain_community.embeddings import HuggingFaceBgeEmbeddings\n",
    "from langchain.prompts import PromptTemplate\n",
    "\n",
    "from langchain.chains import RetrievalQA"
   ]
  },
  {
   "cell_type": "code",
   "execution_count": 23,
   "metadata": {},
   "outputs": [
    {
     "data": {
      "text/plain": [
       "Document(metadata={'source': 'us_census/acsbr-015.pdf', 'page': 0}, page_content='Health Insurance Coverage Status and Type \\nby Geography: 2021 and 2022\\nAmerican Community Survey Briefs\\nACSBR-015Issued September 2023Douglas Conway and Breauna Branch\\nINTRODUCTION\\nDemographic shifts as well as economic and govern-\\nment policy changes can affect people’s access to health coverage. For example, between 2021 and 2022, the labor market continued to improve, which may have affected private coverage in the United States \\nduring that time.\\n1 Public policy changes included \\nthe renewal of the Public Health Emergency, which \\nallowed Medicaid enrollees to remain covered under the Continuous Enrollment Provision.\\n2 The American \\nRescue Plan (ARP) enhanced Marketplace premium subsidies for those with incomes above 400 percent of the poverty level as well as for unemployed people.\\n3')"
      ]
     },
     "execution_count": 23,
     "metadata": {},
     "output_type": "execute_result"
    }
   ],
   "source": [
    "## Read the ppdfs from the folder\n",
    "loader=PyPDFDirectoryLoader(\"./us_census\")\n",
    "\n",
    "documents=loader.load()\n",
    "\n",
    "text_splitter=RecursiveCharacterTextSplitter(chunk_size=1000,chunk_overlap=200)\n",
    "\n",
    "final_documents=text_splitter.split_documents(documents)\n",
    "final_documents[0]"
   ]
  },
  {
   "cell_type": "code",
   "execution_count": 24,
   "metadata": {},
   "outputs": [
    {
     "data": {
      "text/plain": [
       "316"
      ]
     },
     "execution_count": 24,
     "metadata": {},
     "output_type": "execute_result"
    }
   ],
   "source": [
    "len(final_documents)"
   ]
  },
  {
   "cell_type": "code",
   "execution_count": 25,
   "metadata": {},
   "outputs": [],
   "source": [
    "## Embedding Using Huggingface\n",
    "huggingface_embeddings=HuggingFaceBgeEmbeddings(\n",
    "    model_name=\"BAAI/bge-small-en-v1.5\",      #sentence-transformers/all-MiniLM-l6-v2\n",
    "    model_kwargs={'device':'cpu'},\n",
    "    encode_kwargs={'normalize_embeddings':True}\n",
    "\n",
    ")"
   ]
  },
  {
   "cell_type": "code",
   "execution_count": 26,
   "metadata": {},
   "outputs": [
    {
     "name": "stdout",
     "output_type": "stream",
     "text": [
      "[-8.46568570e-02 -1.19099133e-02 -3.37892696e-02  2.94559319e-02\n",
      "  5.19159958e-02  5.73839359e-02 -4.10017595e-02  2.74267979e-02\n",
      " -1.05128214e-01 -1.58056244e-02  7.94858858e-02  5.64318411e-02\n",
      " -1.31765660e-02 -3.41543816e-02  5.81603171e-03  4.72547710e-02\n",
      " -1.30747100e-02  3.12988390e-03 -3.44225727e-02  3.08406446e-02\n",
      " -4.09086309e-02  3.52738015e-02 -2.43761651e-02 -4.35831398e-02\n",
      "  2.41503455e-02  1.31986784e-02 -4.84452490e-03  1.92347504e-02\n",
      " -5.43912686e-02 -1.42735019e-01  5.15527138e-03  2.93115824e-02\n",
      " -5.60810789e-02 -8.53536837e-03  3.14141475e-02  2.76736654e-02\n",
      " -2.06188485e-02  8.24231207e-02  4.15425599e-02  5.79655021e-02\n",
      " -3.71587090e-02  6.26161881e-03 -2.41390113e-02 -5.61793661e-03\n",
      " -2.51715276e-02  5.04971622e-03 -2.52801217e-02 -2.91943806e-03\n",
      " -8.24045856e-03 -5.69604337e-02  2.30822787e-02 -5.54220518e-03\n",
      "  5.11555672e-02  6.09937720e-02  6.49766549e-02 -5.38514033e-02\n",
      "  2.19109617e-02 -2.54194122e-02 -4.49223146e-02  4.22459133e-02\n",
      "  4.75252233e-02  7.23247300e-04 -2.61084497e-01  9.30173323e-02\n",
      "  1.13597419e-02  4.90668602e-02 -1.06287114e-02 -8.08732118e-03\n",
      " -1.53562305e-02 -5.33785857e-02 -6.89967349e-02  4.75178361e-02\n",
      " -5.68595938e-02  9.38639883e-03  4.24065925e-02  2.54346617e-02\n",
      "  9.67095420e-03  7.90800899e-03  2.25161165e-02  1.91006181e-03\n",
      "  3.06091830e-02  2.43991911e-02 -1.34115340e-02 -4.77401055e-02\n",
      "  4.89939898e-02 -9.49416235e-02  5.62893823e-02 -4.76260446e-02\n",
      "  2.81447321e-02 -2.54329387e-02 -3.84951420e-02  1.00940010e-02\n",
      "  1.90568389e-04  3.36625651e-02  1.00181820e-02  2.83524133e-02\n",
      " -2.68965494e-03 -6.96363254e-03 -3.54914889e-02  3.42758894e-01\n",
      " -1.94496252e-02  1.43988105e-02 -5.68814669e-03  1.71481036e-02\n",
      " -2.88607343e-03 -5.81653416e-02  6.35170261e-04  5.17299818e-03\n",
      "  2.06331443e-02  1.65708177e-02  2.15096436e-02 -2.38796007e-02\n",
      "  2.89275385e-02  4.67319340e-02 -3.56104858e-02 -1.05078947e-02\n",
      "  3.70704718e-02  1.57502815e-02  9.43095312e-02 -2.50715315e-02\n",
      " -9.55962855e-03  1.78566091e-02 -9.41782258e-03 -4.57858853e-02\n",
      "  1.82930250e-02  5.81431501e-02  4.94311117e-02  1.46350682e-01\n",
      "  2.16057878e-02 -3.92895937e-02  1.03241257e-01 -3.48299854e-02\n",
      " -6.61871256e-03  7.07988348e-03  9.26983019e-04  4.49870201e-03\n",
      " -2.89777387e-02  4.02419269e-02 -5.23191411e-03  4.59962264e-02\n",
      "  4.23973147e-03 -4.83792555e-03 -3.23240831e-03 -1.41072884e-01\n",
      " -3.76811884e-02  1.83623910e-01 -2.96609569e-02  4.90660332e-02\n",
      "  3.90551575e-02 -1.57757439e-02 -3.86351012e-02  4.65630889e-02\n",
      " -2.43486203e-02  3.57695036e-02 -3.54947262e-02  2.36266013e-02\n",
      " -3.41979117e-04  3.11703589e-02 -2.39356328e-02 -5.94757907e-02\n",
      "  6.06259555e-02 -3.81902494e-02 -7.04255551e-02  1.42480005e-02\n",
      "  3.34432051e-02 -3.85254808e-02 -1.71951633e-02 -7.12288916e-02\n",
      "  2.64976453e-02  1.09495986e-02  1.32650333e-02  3.89528237e-02\n",
      "  1.60355475e-02 -3.17630209e-02  1.02013700e-01  2.92912442e-02\n",
      " -2.29205601e-02 -8.38054251e-03 -1.72172580e-02 -6.78820908e-02\n",
      "  5.39417379e-03 -2.32347157e-02 -6.07406758e-02 -3.86575609e-02\n",
      " -1.54306507e-02 -3.84983495e-02 -5.02867736e-02  5.04235364e-02\n",
      "  4.94898371e-02 -1.41083570e-02 -2.98142829e-03  9.76472656e-05\n",
      " -6.59190342e-02  3.01006921e-02 -5.46592928e-04 -1.64787900e-02\n",
      " -5.21614812e-02 -3.30224144e-03  4.75748330e-02 -3.40808295e-02\n",
      " -2.98659932e-02  2.75014434e-02  5.90202631e-03 -2.64041661e-03\n",
      " -1.61242858e-02  2.05222368e-02  1.21104885e-02 -5.49782477e-02\n",
      "  5.10389470e-02 -7.92087708e-03  7.25203240e-03  3.51751149e-02\n",
      "  3.66276875e-02  5.67716197e-04  2.60788538e-02  2.50971150e-02\n",
      "  1.14481254e-02 -2.54925042e-02  1.96417756e-02  2.84220371e-02\n",
      "  2.82553863e-02  6.57489747e-02  9.26554054e-02 -2.68629700e-01\n",
      " -8.90546653e-04  3.16914450e-03  5.08358423e-03 -6.42100796e-02\n",
      " -4.56614718e-02 -4.62259948e-02  3.60924639e-02  8.29055347e-03\n",
      "  8.92349482e-02  5.68021834e-02  6.91061467e-03 -1.08684301e-02\n",
      "  9.36060399e-02  1.03680436e-02 -8.60929936e-02  1.77332051e-02\n",
      " -2.00802777e-02 -1.85125042e-02  5.62407658e-04 -9.38339811e-03\n",
      "  7.76058668e-03 -5.37273772e-02 -2.30028238e-02  7.48890564e-02\n",
      " -1.29692899e-02  6.53717145e-02 -4.24983203e-02 -7.10294247e-02\n",
      " -1.56803783e-02 -6.23028539e-02  5.36034331e-02 -6.53212797e-03\n",
      " -1.15985498e-01  6.70968145e-02  1.93366949e-02 -6.67827874e-02\n",
      " -2.01753480e-03 -6.27636686e-02 -2.95005236e-02 -2.71986313e-02\n",
      "  4.49796915e-02 -6.61587715e-02  2.13750992e-02 -2.94078011e-02\n",
      " -5.71503229e-02  4.05282639e-02  7.11039305e-02 -6.80165440e-02\n",
      "  2.11908631e-02  1.30515201e-02 -2.91152839e-02 -2.25581676e-02\n",
      " -1.60188563e-02  3.20554003e-02 -5.89460656e-02 -2.97131874e-02\n",
      "  3.42681967e-02 -1.58376060e-02 -9.31770448e-03  3.59834470e-02\n",
      "  3.65340733e-03  4.73319851e-02 -1.06235351e-02 -8.69731233e-03\n",
      " -4.38010134e-02  5.94554516e-03 -2.41493750e-02 -7.79940635e-02\n",
      "  1.46542424e-02  1.05614001e-02  5.45365512e-02 -3.17897126e-02\n",
      " -1.26763163e-02  7.92560540e-03 -1.38133112e-02  5.01396544e-02\n",
      " -7.28573184e-03 -5.23702987e-03 -5.32640591e-02  4.78208475e-02\n",
      " -5.38353771e-02  1.11437635e-02  3.96674387e-02 -1.93496346e-02\n",
      "  9.94823128e-03 -3.53477709e-03  3.58559145e-03 -9.61500220e-03\n",
      "  2.15323754e-02 -1.82350427e-02 -2.15188917e-02 -1.38835758e-02\n",
      " -1.76699180e-02  3.37981619e-04 -3.84851883e-04 -2.25800544e-01\n",
      "  4.51242998e-02  1.53377093e-02 -1.76967606e-02 -1.42526096e-02\n",
      " -7.00283842e-03 -3.13725099e-02  2.13674945e-03 -9.28347837e-03\n",
      " -1.66987125e-02  4.66264226e-02  7.71809593e-02  1.26697019e-01\n",
      " -1.83595289e-02 -1.39637021e-02 -1.23302045e-03  5.93339391e-02\n",
      " -1.37462455e-03  1.98233407e-02 -2.92636044e-02  4.96656522e-02\n",
      " -6.07207119e-02  1.53544769e-01 -4.67309430e-02  1.97029319e-02\n",
      " -7.67833069e-02 -7.73229869e-03  3.71619016e-02 -3.00591104e-02\n",
      "  8.30261875e-03  2.06258874e-02  1.97465671e-03  3.39764506e-02\n",
      " -1.70869604e-02  4.84796278e-02  1.20781967e-02  1.24999387e-02\n",
      "  5.61724231e-02  9.88544244e-03  2.13879123e-02 -4.25293408e-02\n",
      " -1.94037016e-02  2.47838050e-02  1.37260836e-02  6.41119704e-02\n",
      " -2.84481030e-02 -4.64116707e-02 -5.36255278e-02 -6.95361596e-05\n",
      "  6.45710304e-02 -4.32017347e-04 -1.32470550e-02  5.85134048e-03\n",
      "  1.48595562e-02 -5.41847423e-02 -2.02038381e-02 -5.98262697e-02\n",
      "  3.67029049e-02  1.43316120e-03 -8.64462927e-03  2.90671661e-02\n",
      "  4.38365787e-02 -7.64942840e-02  1.55717954e-02  6.65831193e-02]\n",
      "(384,)\n"
     ]
    }
   ],
   "source": [
    "import  numpy as np\n",
    "print(np.array(huggingface_embeddings.embed_query(final_documents[0].page_content)))\n",
    "print(np.array(huggingface_embeddings.embed_query(final_documents[0].page_content)).shape)"
   ]
  },
  {
   "cell_type": "code",
   "execution_count": 27,
   "metadata": {},
   "outputs": [],
   "source": [
    "## VectorStore Creation\n",
    "vectorstore=FAISS.from_documents(final_documents[:120],huggingface_embeddings)"
   ]
  },
  {
   "cell_type": "code",
   "execution_count": 28,
   "metadata": {},
   "outputs": [
    {
     "name": "stdout",
     "output_type": "stream",
     "text": [
      "2 U.S. Census Bureau\n",
      "WHAT IS HEALTH INSURANCE COVERAGE?\n",
      "This brief presents state-level estimates of health insurance coverage \n",
      "using data from the American Community Survey (ACS). The  \n",
      "U.S. Census Bureau conducts the ACS throughout the year; the \n",
      "survey asks respondents to report their coverage at the time of \n",
      "interview. The resulting measure of health insurance coverage, \n",
      "therefore, reflects an annual average of current comprehensive \n",
      "health insurance coverage status.* This uninsured rate measures a \n",
      "different concept than the measure based on the Current Population \n",
      "Survey Annual Social and Economic Supplement (CPS ASEC). \n",
      "For reporting purposes, the ACS broadly classifies health insurance \n",
      "coverage as private insurance or public insurance. The ACS defines \n",
      "private health insurance as a plan provided through an employer \n",
      "or a union, coverage purchased directly by an individual from an \n",
      "insurance company or through an exchange (such as healthcare.\n"
     ]
    }
   ],
   "source": [
    "## Query using Similarity Search\n",
    "query=\"WHAT IS HEALTH INSURANCE COVERAGE?\"\n",
    "relevant_docments=vectorstore.similarity_search(query)\n",
    "\n",
    "print(relevant_docments[0].page_content)"
   ]
  },
  {
   "cell_type": "code",
   "execution_count": 29,
   "metadata": {},
   "outputs": [
    {
     "name": "stdout",
     "output_type": "stream",
     "text": [
      "tags=['FAISS', 'HuggingFaceBgeEmbeddings'] vectorstore=<langchain_community.vectorstores.faiss.FAISS object at 0x110f809a0> search_kwargs={'k': 3}\n"
     ]
    }
   ],
   "source": [
    "retriever=vectorstore.as_retriever(search_type=\"similarity\",search_kwargs={\"k\":3})\n",
    "print(retriever)"
   ]
  },
  {
   "cell_type": "code",
   "execution_count": 38,
   "metadata": {},
   "outputs": [
    {
     "data": {
      "text/plain": [
       "'What is the health insurance rating?\\n\\nThe health insurance rating is a measure of the quality of health insurance plans. It is based on a number of factors, including the number of complaints filed against the plan, the number of claims paid, and the number of claims denied.\\n\\nWhat are the benefits of a health insurance rating?\\n\\nThe health insurance rating can help consumers make informed decisions about their health insurance plans. It can also help insurers identify areas where they need to improve their services.\\n\\nHow is the'"
      ]
     },
     "execution_count": 38,
     "metadata": {},
     "output_type": "execute_result"
    }
   ],
   "source": [
    "from langchain_community.llms import HuggingFaceHub\n",
    "import os\n",
    "os.environ['HUGGINGFACEHUB_API_TOKEN']=os.getenv(\"HUGGINGFACEHUB_API_TOKEN\")\n",
    "hf=HuggingFaceHub(\n",
    "    repo_id=\"mistralai/Mistral-7B-v0.1\",\n",
    "    model_kwargs={\"temperature\":0.1,\"max_length\":500}\n",
    "\n",
    ")\n",
    "query=\"What is the health insurance rating?\"\n",
    "hf.invoke(query)"
   ]
  },
  {
   "cell_type": "code",
   "execution_count": 39,
   "metadata": {},
   "outputs": [
    {
     "data": {
      "text/plain": [
       "'What is the health insurance coverage?\\n\\nThe health insurance coverage is a contract between the insurer and the insured. The insurer undertakes to pay the insured for the costs incurred in the event of illness or accident. The insured undertakes to pay the premiums.\\n\\nWhat is the health insurance coverage?\\n\\nThe health insurance coverage is a contract between the insurer and the insured. The insurer undertakes to pay the insured for the costs incurred in the event of'"
      ]
     },
     "execution_count": 39,
     "metadata": {},
     "output_type": "execute_result"
    }
   ],
   "source": [
    "query=\"What is the health insurance coverage?\"\n",
    "hf.invoke(query)"
   ]
  },
  {
   "cell_type": "code",
   "execution_count": null,
   "metadata": {},
   "outputs": [],
   "source": []
  }
 ],
 "metadata": {
  "kernelspec": {
   "display_name": "Python 3",
   "language": "python",
   "name": "python3"
  },
  "language_info": {
   "codemirror_mode": {
    "name": "ipython",
    "version": 3
   },
   "file_extension": ".py",
   "mimetype": "text/x-python",
   "name": "python",
   "nbconvert_exporter": "python",
   "pygments_lexer": "ipython3",
   "version": "3.10.14"
  }
 },
 "nbformat": 4,
 "nbformat_minor": 2
}
